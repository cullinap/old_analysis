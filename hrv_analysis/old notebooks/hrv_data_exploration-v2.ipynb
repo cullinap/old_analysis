{
 "cells": [
  {
   "cell_type": "markdown",
   "metadata": {},
   "source": [
    "# Analysis of Heart Rate Variability\n",
    "\n",
    "## 1. Background\n",
    "\n",
    "This dataset we are using to analyze Heart Rate Variability (HRV) comes from the SWELL knowledge dataset on stress and user modeling found here: http://cs.ru.nl/~skoldijk/SWELL-KW/Dataset.html. The dataset contains facial recognition and posture analysis, but for the purposes of this analysis we will just dig into the heart variability aspect. \n",
    "\n",
    "HRV is a physiological phenomenom in which the time period between heart beats has been shown to vary. To obtain HRV the interval between the \"R\" waves in the QRS complex are measured between successive heartbeats. It has been shown that increased variability is associated with greater health. Specifically, it has been shown as an indicator of increased emotional stress (http://tinyurl.com/y4x953x4), increase anxiety (http://tinyurl.com/y3fggcah), and possibly an indicator of Post-traumatic stress disorder (PTSD) (https://www.biologicalpsychiatryjournal.com/article/S0006-3223(97)00475-7/fulltext). Overall HRV is a way to possibly non-invasively monitor physiological stress. \n",
    "\n",
    "## 2. Procedure\n",
    "\n",
    "Participants did not smoke or drink caffeine 3 hours prior to the experiment. The experiment was divided into three sections each lasting about an hour and each starting with a relaxation phase of about eight minutes. Once the relaxation phase was completed participants were assigned random tasks and told to write reports on them. During each segment participants were given an informational and a opinion report. They then made a presentation on the one of their choosing. The phases consisted of neutral - the participant was told they could work on the task as long as they wanted, stressor: time pressure - time to finish tasks was cut down by 2/3 of the previous time period, stressor: interruptions - 8 emails were sent to the particpants while they performed tasks, and some of them required replies while others didn't. The participants were instructed that it was important to finish the tasks in order to obtain the full particpation fee, which helped to set real world expectations. The participants were students comprised of 17 males and 8 females. Various measurements were obtained, but for the purposes of this dataset we will focus on the ECG data  which provides the heart rate and heart rate variability measurements. \n",
    "\n",
    "## 3. Hypothesis\n",
    "\n",
    "Metric\n",
    "1. The overall experimentation metric we will be tracking is HRV measured and we will be interested in if HRV decreases with the introduction of 1) time-stress and 2) interruptions\n",
    "\n",
    "Course of action\n",
    "2. If we find there is correlation between decreased HRV we will run the experiment again over the course of a couple days to see changes \n",
    "\n",
    "3. We believe that HRV as measured by RMSSD will decrease under stress from time iterruption and compression because HRV appears to be an indicator of physiological stress on the autonomic nervous system.\n",
    "\n",
    "explain how things are related one goes up one goes down: the thing I defined will impact\n",
    "\n",
    "4. The population of the study will be 25 participants (all students 17 male, 8 female). \n",
    "\n",
    "5. MDE: \n",
    "-a little bit of a guess \n",
    "significance is false positive rate\n",
    "power is \n",
    "detection rate: increase false\n",
    "power increase false positive rate good trade-off\n",
    "alpha = 0.05 (false positive rate)\n",
    "\n",
    "6. \n",
    "\n",
    "\n"
   ]
  },
  {
   "cell_type": "code",
   "execution_count": 1,
   "metadata": {},
   "outputs": [],
   "source": [
    "#import necessary libraries\n",
    "\n",
    "import os\n",
    "import glob\n",
    "from datetime import datetime\n",
    "import numpy as np\n",
    "import pandas as pd\n",
    "import geopandas as gpd\n",
    "import matplotlib.pyplot as plt\n",
    "import geopandas as gpd\n",
    "from datetime import datetime\n",
    "import matplotlib.dates as mdates\n",
    "from scipy.stats import ttest_ind\n",
    "import seaborn as sns\n",
    "import networkx as nx\n",
    "from sklearn.cluster import KMeans\n",
    "from sklearn.preprocessing import scale\n",
    "%matplotlib inline"
   ]
  },
  {
   "cell_type": "markdown",
   "metadata": {},
   "source": [
    "## Pre-processing"
   ]
  },
  {
   "cell_type": "code",
   "execution_count": 2,
   "metadata": {},
   "outputs": [
    {
     "data": {
      "text/plain": [
       "['/Users/patrickcullinane/Documents/Code/hrv_analysis/data/hrv stress labels.xlsx']"
      ]
     },
     "execution_count": 2,
     "metadata": {},
     "output_type": "execute_result"
    }
   ],
   "source": [
    "files = glob.glob(os.path.join(os.getcwd(),'data') + '/*.xlsx') #find all files with .csv\n",
    "files"
   ]
  },
  {
   "cell_type": "code",
   "execution_count": 3,
   "metadata": {},
   "outputs": [
    {
     "data": {
      "text/plain": [
       "<pandas.io.excel.ExcelFile at 0x1a2d49b3c8>"
      ]
     },
     "execution_count": 3,
     "metadata": {},
     "output_type": "execute_result"
    }
   ],
   "source": [
    "data = pd.ExcelFile(files[0]); data"
   ]
  },
  {
   "cell_type": "code",
   "execution_count": 4,
   "metadata": {},
   "outputs": [
    {
     "name": "stdout",
     "output_type": "stream",
     "text": [
      "sheet: p1\n",
      "sheet: p2\n",
      "sheet: p3\n",
      "sheet: p4\n",
      "sheet: p5\n",
      "sheet: p6\n",
      "sheet: p7\n",
      "sheet: p8\n",
      "sheet: p9\n",
      "sheet: p10\n",
      "sheet: p11\n",
      "sheet: p12\n",
      "sheet: p13\n",
      "sheet: p14\n",
      "sheet: p15\n",
      "sheet: p16\n",
      "sheet: p17\n",
      "sheet: p18\n",
      "sheet: p19\n",
      "sheet: p20\n",
      "sheet: p21\n",
      "sheet: p22\n",
      "sheet: p23\n",
      "sheet: p24\n",
      "sheet: p25\n"
     ]
    }
   ],
   "source": [
    "#the data is in sheets - unpack all the sheets and append them in a for loop\n",
    "\n",
    "for sheet in data.sheet_names:\n",
    "    if sheet == 'p1':\n",
    "        data_df = pd.read_excel(files[0], sheet_name=sheet)\n",
    "        print('sheet: ' + str(sheet))\n",
    "    else:\n",
    "        df = pd.read_excel(files[0], sheet_name=sheet)\n",
    "        print('sheet: ' + str(sheet))\n",
    "        data_df = data_df.append(df, ignore_index=True) "
   ]
  },
  {
   "cell_type": "code",
   "execution_count": 5,
   "metadata": {},
   "outputs": [
    {
     "data": {
      "text/html": [
       "<div>\n",
       "<style scoped>\n",
       "    .dataframe tbody tr th:only-of-type {\n",
       "        vertical-align: middle;\n",
       "    }\n",
       "\n",
       "    .dataframe tbody tr th {\n",
       "        vertical-align: top;\n",
       "    }\n",
       "\n",
       "    .dataframe thead th {\n",
       "        text-align: right;\n",
       "    }\n",
       "</style>\n",
       "<table border=\"1\" class=\"dataframe\">\n",
       "  <thead>\n",
       "    <tr style=\"text-align: right;\">\n",
       "      <th></th>\n",
       "      <th>Unnamed: 0</th>\n",
       "      <th>PP</th>\n",
       "      <th>C</th>\n",
       "      <th>timestamp</th>\n",
       "      <th>HR</th>\n",
       "      <th>RMSSD</th>\n",
       "      <th>SCL</th>\n",
       "      <th>date</th>\n",
       "      <th>subject</th>\n",
       "      <th>label</th>\n",
       "      <th>Condition</th>\n",
       "      <th>ElapsedTime</th>\n",
       "    </tr>\n",
       "  </thead>\n",
       "  <tbody>\n",
       "    <tr>\n",
       "      <th>0</th>\n",
       "      <td>0</td>\n",
       "      <td>PP1</td>\n",
       "      <td>1</td>\n",
       "      <td>20120918T131600000</td>\n",
       "      <td>NaN</td>\n",
       "      <td>NaN</td>\n",
       "      <td>80.239727</td>\n",
       "      <td>2012-09-18 13:16:00</td>\n",
       "      <td>p1</td>\n",
       "      <td>rest</td>\n",
       "      <td>R</td>\n",
       "      <td>0</td>\n",
       "    </tr>\n",
       "    <tr>\n",
       "      <th>1</th>\n",
       "      <td>1</td>\n",
       "      <td>PP1</td>\n",
       "      <td>1</td>\n",
       "      <td>20120918T131700000</td>\n",
       "      <td>61.0</td>\n",
       "      <td>0.061420</td>\n",
       "      <td>77.365127</td>\n",
       "      <td>2012-09-18 13:17:00</td>\n",
       "      <td>p1</td>\n",
       "      <td>rest</td>\n",
       "      <td>R</td>\n",
       "      <td>1</td>\n",
       "    </tr>\n",
       "    <tr>\n",
       "      <th>2</th>\n",
       "      <td>2</td>\n",
       "      <td>PP1</td>\n",
       "      <td>1</td>\n",
       "      <td>20120918T131800000</td>\n",
       "      <td>64.0</td>\n",
       "      <td>0.049663</td>\n",
       "      <td>77.359559</td>\n",
       "      <td>2012-09-18 13:18:00</td>\n",
       "      <td>p1</td>\n",
       "      <td>rest</td>\n",
       "      <td>R</td>\n",
       "      <td>2</td>\n",
       "    </tr>\n",
       "    <tr>\n",
       "      <th>3</th>\n",
       "      <td>3</td>\n",
       "      <td>PP1</td>\n",
       "      <td>1</td>\n",
       "      <td>20120918T131900000</td>\n",
       "      <td>60.0</td>\n",
       "      <td>0.052487</td>\n",
       "      <td>76.728772</td>\n",
       "      <td>2012-09-18 13:19:00</td>\n",
       "      <td>p1</td>\n",
       "      <td>rest</td>\n",
       "      <td>R</td>\n",
       "      <td>3</td>\n",
       "    </tr>\n",
       "    <tr>\n",
       "      <th>4</th>\n",
       "      <td>4</td>\n",
       "      <td>PP1</td>\n",
       "      <td>1</td>\n",
       "      <td>20120918T132000000</td>\n",
       "      <td>61.0</td>\n",
       "      <td>0.051189</td>\n",
       "      <td>76.512877</td>\n",
       "      <td>2012-09-18 13:20:00</td>\n",
       "      <td>p1</td>\n",
       "      <td>rest</td>\n",
       "      <td>R</td>\n",
       "      <td>4</td>\n",
       "    </tr>\n",
       "  </tbody>\n",
       "</table>\n",
       "</div>"
      ],
      "text/plain": [
       "   Unnamed: 0   PP  C           timestamp    HR     RMSSD        SCL  \\\n",
       "0           0  PP1  1  20120918T131600000   NaN       NaN  80.239727   \n",
       "1           1  PP1  1  20120918T131700000  61.0  0.061420  77.365127   \n",
       "2           2  PP1  1  20120918T131800000  64.0  0.049663  77.359559   \n",
       "3           3  PP1  1  20120918T131900000  60.0  0.052487  76.728772   \n",
       "4           4  PP1  1  20120918T132000000  61.0  0.051189  76.512877   \n",
       "\n",
       "                 date subject label Condition  ElapsedTime  \n",
       "0 2012-09-18 13:16:00      p1  rest         R            0  \n",
       "1 2012-09-18 13:17:00      p1  rest         R            1  \n",
       "2 2012-09-18 13:18:00      p1  rest         R            2  \n",
       "3 2012-09-18 13:19:00      p1  rest         R            3  \n",
       "4 2012-09-18 13:20:00      p1  rest         R            4  "
      ]
     },
     "execution_count": 5,
     "metadata": {},
     "output_type": "execute_result"
    }
   ],
   "source": [
    "#look at the data\n",
    "data_df.head()"
   ]
  },
  {
   "cell_type": "code",
   "execution_count": 6,
   "metadata": {},
   "outputs": [
    {
     "data": {
      "text/plain": [
       "array(['p1', 'p2', 'p3', 'p4', 'p5', 'p6', 'p7', 'p8', 'p9', 'p10', 'p11',\n",
       "       'p12', 'p13', 'p14', 'p15', 'p16', 'p17', 'p18', 'p19', 'p20',\n",
       "       'p21', 'p22', 'p23', 'p24', 'p25'], dtype=object)"
      ]
     },
     "execution_count": 6,
     "metadata": {},
     "output_type": "execute_result"
    }
   ],
   "source": [
    "#there are 25 subjects in the dataset\n",
    "data_df.subject.unique()"
   ]
  },
  {
   "cell_type": "markdown",
   "metadata": {},
   "source": [
    "The data shows 25 subjects labeled 'p1' to 'p25'"
   ]
  },
  {
   "cell_type": "code",
   "execution_count": 7,
   "metadata": {},
   "outputs": [
    {
     "data": {
      "text/html": [
       "<div>\n",
       "<style scoped>\n",
       "    .dataframe tbody tr th:only-of-type {\n",
       "        vertical-align: middle;\n",
       "    }\n",
       "\n",
       "    .dataframe tbody tr th {\n",
       "        vertical-align: top;\n",
       "    }\n",
       "\n",
       "    .dataframe thead th {\n",
       "        text-align: right;\n",
       "    }\n",
       "</style>\n",
       "<table border=\"1\" class=\"dataframe\">\n",
       "  <thead>\n",
       "    <tr style=\"text-align: right;\">\n",
       "      <th></th>\n",
       "      <th>Unnamed: 0</th>\n",
       "      <th>C</th>\n",
       "      <th>HR</th>\n",
       "      <th>RMSSD</th>\n",
       "      <th>SCL</th>\n",
       "      <th>ElapsedTime</th>\n",
       "    </tr>\n",
       "  </thead>\n",
       "  <tbody>\n",
       "    <tr>\n",
       "      <th>count</th>\n",
       "      <td>3140.000000</td>\n",
       "      <td>3140.000000</td>\n",
       "      <td>1490.000000</td>\n",
       "      <td>1490.000000</td>\n",
       "      <td>2578.000000</td>\n",
       "      <td>3140.000000</td>\n",
       "    </tr>\n",
       "    <tr>\n",
       "      <th>mean</th>\n",
       "      <td>1569.500000</td>\n",
       "      <td>1.936624</td>\n",
       "      <td>73.610738</td>\n",
       "      <td>0.053412</td>\n",
       "      <td>228.847439</td>\n",
       "      <td>84.128662</td>\n",
       "    </tr>\n",
       "    <tr>\n",
       "      <th>std</th>\n",
       "      <td>906.584249</td>\n",
       "      <td>0.826910</td>\n",
       "      <td>8.106421</td>\n",
       "      <td>0.030615</td>\n",
       "      <td>206.416736</td>\n",
       "      <td>51.777220</td>\n",
       "    </tr>\n",
       "    <tr>\n",
       "      <th>min</th>\n",
       "      <td>0.000000</td>\n",
       "      <td>1.000000</td>\n",
       "      <td>57.000000</td>\n",
       "      <td>0.010599</td>\n",
       "      <td>53.252680</td>\n",
       "      <td>-117.000000</td>\n",
       "    </tr>\n",
       "    <tr>\n",
       "      <th>25%</th>\n",
       "      <td>784.750000</td>\n",
       "      <td>1.000000</td>\n",
       "      <td>68.000000</td>\n",
       "      <td>0.034351</td>\n",
       "      <td>108.196018</td>\n",
       "      <td>35.000000</td>\n",
       "    </tr>\n",
       "    <tr>\n",
       "      <th>50%</th>\n",
       "      <td>1569.500000</td>\n",
       "      <td>2.000000</td>\n",
       "      <td>73.000000</td>\n",
       "      <td>0.045700</td>\n",
       "      <td>166.184056</td>\n",
       "      <td>86.000000</td>\n",
       "    </tr>\n",
       "    <tr>\n",
       "      <th>75%</th>\n",
       "      <td>2354.250000</td>\n",
       "      <td>3.000000</td>\n",
       "      <td>79.000000</td>\n",
       "      <td>0.062347</td>\n",
       "      <td>256.309943</td>\n",
       "      <td>132.000000</td>\n",
       "    </tr>\n",
       "    <tr>\n",
       "      <th>max</th>\n",
       "      <td>3139.000000</td>\n",
       "      <td>3.000000</td>\n",
       "      <td>107.000000</td>\n",
       "      <td>0.352978</td>\n",
       "      <td>1455.230430</td>\n",
       "      <td>181.000000</td>\n",
       "    </tr>\n",
       "  </tbody>\n",
       "</table>\n",
       "</div>"
      ],
      "text/plain": [
       "        Unnamed: 0            C           HR        RMSSD          SCL  \\\n",
       "count  3140.000000  3140.000000  1490.000000  1490.000000  2578.000000   \n",
       "mean   1569.500000     1.936624    73.610738     0.053412   228.847439   \n",
       "std     906.584249     0.826910     8.106421     0.030615   206.416736   \n",
       "min       0.000000     1.000000    57.000000     0.010599    53.252680   \n",
       "25%     784.750000     1.000000    68.000000     0.034351   108.196018   \n",
       "50%    1569.500000     2.000000    73.000000     0.045700   166.184056   \n",
       "75%    2354.250000     3.000000    79.000000     0.062347   256.309943   \n",
       "max    3139.000000     3.000000   107.000000     0.352978  1455.230430   \n",
       "\n",
       "       ElapsedTime  \n",
       "count  3140.000000  \n",
       "mean     84.128662  \n",
       "std      51.777220  \n",
       "min    -117.000000  \n",
       "25%      35.000000  \n",
       "50%      86.000000  \n",
       "75%     132.000000  \n",
       "max     181.000000  "
      ]
     },
     "execution_count": 7,
     "metadata": {},
     "output_type": "execute_result"
    }
   ],
   "source": [
    "data_df.describe()"
   ]
  },
  {
   "cell_type": "markdown",
   "metadata": {},
   "source": [
    "The dataset contains "
   ]
  },
  {
   "cell_type": "code",
   "execution_count": 8,
   "metadata": {},
   "outputs": [
    {
     "name": "stdout",
     "output_type": "stream",
     "text": [
      "<class 'pandas.core.frame.DataFrame'>\n",
      "RangeIndex: 3140 entries, 0 to 3139\n",
      "Data columns (total 12 columns):\n",
      "Unnamed: 0     3140 non-null int64\n",
      "PP             3140 non-null object\n",
      "C              3140 non-null int64\n",
      "timestamp      3140 non-null object\n",
      "HR             1490 non-null float64\n",
      "RMSSD          1490 non-null float64\n",
      "SCL            2578 non-null float64\n",
      "date           3140 non-null datetime64[ns]\n",
      "subject        3140 non-null object\n",
      "label          3140 non-null object\n",
      "Condition      3140 non-null object\n",
      "ElapsedTime    3140 non-null int64\n",
      "dtypes: datetime64[ns](1), float64(3), int64(3), object(5)\n",
      "memory usage: 294.5+ KB\n"
     ]
    }
   ],
   "source": [
    "data_df.info()"
   ]
  },
  {
   "cell_type": "code",
   "execution_count": 9,
   "metadata": {},
   "outputs": [
    {
     "name": "stdout",
     "output_type": "stream",
     "text": [
      "['rest' 'no stress' 'time pressure' 'interruption']\n",
      "['R' 'N' 'T' 'I']\n"
     ]
    }
   ],
   "source": [
    "#print out phase of study\n",
    "print(data_df.label.unique())\n",
    "print(data_df.Condition.unique())"
   ]
  },
  {
   "cell_type": "markdown",
   "metadata": {},
   "source": [
    "Each phase of the study is labeled 'R' 'N' 'T' 'I'. corresponding to rest, no-stress, time pressure, or iterruption as described previously.\n",
    "\n",
    "Below are the mean heart rates and root mean square of successive differences (RMSSD). This is often used as a good 'snapshot' of autonomic nervous system's parasympathetic branch. In other words RMSSD can be used as a marker for parasympathetic activity/stress on the body. \n",
    "\n",
    "Let's look at the average heart rates and HRV values for each of the participants during the study."
   ]
  },
  {
   "cell_type": "code",
   "execution_count": 10,
   "metadata": {},
   "outputs": [
    {
     "data": {
      "image/png": "[encoded data removed]",
      "text/plain": [
       "<Figure size 1080x360 with 1 Axes>"
      ]
     },
     "metadata": {
      "needs_background": "light"
     },
     "output_type": "display_data"
    }
   ],
   "source": [
    "#calculate and graph all the RMSSD means\n",
    "rmssd_hr = []\n",
    "\n",
    "for sheet in data.sheet_names:\n",
    "    hr = data_df[data_df['subject']==sheet]\n",
    "    rmssd_hr.append(hr['RMSSD'].mean())\n",
    "    \n",
    "rmssd_hr_df = pd.DataFrame(rmssd_hr,data.sheet_names)\n",
    "\n",
    "fig, ax = plt.subplots(figsize=(15,5))\n",
    "\n",
    "sns.scatterplot(x=rmssd_hr_df.index, y=rmssd_hr_df[0],data=rmssd_hr_df)\n",
    "plt.xticks(rotation=45)\n",
    "\n",
    "plt.show()"
   ]
  },
  {
   "cell_type": "code",
   "execution_count": 12,
   "metadata": {},
   "outputs": [
    {
     "data": {
      "image/png": "[encoded data removed]",
      "text/plain": [
       "<Figure size 1080x360 with 1 Axes>"
      ]
     },
     "metadata": {
      "needs_background": "light"
     },
     "output_type": "display_data"
    }
   ],
   "source": [
    "#visualize the distribution off all the RMSSD values\n",
    "fig, ax = plt.subplots(figsize=(15,5))\n",
    "\n",
    "sns.distplot(data_df['RMSSD'].dropna())\n",
    "plt.show()"
   ]
  },
  {
   "cell_type": "code",
   "execution_count": 13,
   "metadata": {},
   "outputs": [
    {
     "data": {
      "image/png": "[encoded data removed]",
      "text/plain": [
       "<Figure size 1080x360 with 3 Axes>"
      ]
     },
     "metadata": {
      "needs_background": "light"
     },
     "output_type": "display_data"
    }
   ],
   "source": [
    "#by phase of study return HR for all subjects\n",
    "fig, ax = plt.subplots(figsize=(15,5), ncols=3, nrows=1)\n",
    "fig.subplots_adjust(wspace=.5)\n",
    "\n",
    "sns.barplot(x=data_df['Condition'], y=data_df['HR'], ax=ax[0])\n",
    "sns.stripplot(x=data_df['Condition'], y=data_df['HR'], ax=ax[1])\n",
    "sns.boxenplot(x=data_df['Condition'], y=data_df['HR'], ax=ax[2])\n",
    "\n",
    "plt.show()"
   ]
  },
  {
   "cell_type": "code",
   "execution_count": 14,
   "metadata": {},
   "outputs": [
    {
     "data": {
      "image/png": "[encoded data removed]",
      "text/plain": [
       "<Figure size 1080x360 with 3 Axes>"
      ]
     },
     "metadata": {
      "needs_background": "light"
     },
     "output_type": "display_data"
    }
   ],
   "source": [
    "#by phase of study return RMSSD for all subjects\n",
    "fig, ax = plt.subplots(figsize=(15,5), ncols=3, nrows=1)\n",
    "fig.subplots_adjust(wspace=.5)\n",
    "\n",
    "sns.barplot(x=data_df['Condition'], y=data_df['RMSSD'], ax=ax[0])\n",
    "sns.stripplot(x=data_df['Condition'], y=data_df['RMSSD'], ax=ax[1])\n",
    "sns.boxenplot(x=data_df['Condition'], y=data_df['RMSSD'], ax=ax[2])\n",
    "\n",
    "plt.show()"
   ]
  },
  {
   "cell_type": "code",
   "execution_count": 36,
   "metadata": {},
   "outputs": [],
   "source": [
    "#collect study means\n",
    "#by particpant/hue=condition, y axis = rMSSD\n",
    "\n",
    "SUBJECTS = data.sheet_names\n",
    "CONDITIONS = data_df.Condition.unique()\n",
    "\n",
    "def calculate_mean_rmssd(condition,subject):\n",
    "    return data_df[(data_df.Condition==condition) & (data_df.subject==subject)].RMSSD.mean()\n",
    "\n",
    "#def calculate_mean_hr(condition,subject):\n",
    "    #return data_df[(data_df.Condition==condition) & (data_df.subject==subject)].HR.mean()\n",
    "\n",
    "def generate_means(conditions,subjects):\n",
    "    output={}\n",
    "    \n",
    "    for subject in subjects:\n",
    "        m = tuple(calculate_mean(condition,subject) for condition in conditions)\n",
    "        output[subject] = m\n",
    "    \n",
    "    return output\n",
    "\n",
    "def generate_scatter(value,value_range):\n",
    "    [plt.scatter(SUBJECTS, [elem[i] for elem in value.values()]) for i in range(value_range)]\n",
    "    plt.show()\n",
    "    "
   ]
  },
  {
   "cell_type": "code",
   "execution_count": 38,
   "metadata": {},
   "outputs": [
    {
     "data": {
      "image/png": "[encoded data removed]",
      "text/plain": [
       "<Figure size 432x288 with 1 Axes>"
      ]
     },
     "metadata": {
      "needs_background": "light"
     },
     "output_type": "display_data"
    }
   ],
   "source": [
    "rmssd_means = generate_means(CONDITIONS,SUBJECTS)\n",
    "\n",
    "generate_scatter(rmssd_means,4)\n"
   ]
  },
  {
   "cell_type": "markdown",
   "metadata": {},
   "source": [
    "To do:\n",
    "\n",
    "1. By subject breakdown can I fit in \n",
    "2. ttest to show significant difference between RMSSD in no stress v. time pressue & no stree v. interruption. I think I am looking for a decreased RMSSD in this case: This is my A/B test\n",
    "3. Run a for-loop to see if I can parse out ttest on a subject by subject basis\n",
    "4. A linear regression example? HR v. RMSSD, SCL v. RMSSD\n",
    "5. Can I run a pairplot with all the subjects RMSSD & HR data to see if there are correlations between eachother? \n",
    "6. Figure out mean/median SD for all subjects in the study for HR/RMSSD - then can I look "
   ]
  }
 ],
 "metadata": {
  "kernelspec": {
   "display_name": "Python (fast_ai)",
   "language": "python",
   "name": "fast_ai"
  },
  "language_info": {
   "codemirror_mode": {
    "name": "ipython",
    "version": 3
   },
   "file_extension": ".py",
   "mimetype": "text/x-python",
   "name": "python",
   "nbconvert_exporter": "python",
   "pygments_lexer": "ipython3",
   "version": "3.7.2"
  }
 },
 "nbformat": 4,
 "nbformat_minor": 2
}
