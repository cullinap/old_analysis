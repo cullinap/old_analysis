{
 "cells": [
  {
   "cell_type": "code",
   "execution_count": 2,
   "metadata": {},
   "outputs": [],
   "source": [
    "import pandas as pd\n",
    "import numpy as np\n",
    "import os\n",
    "import glob\n",
    "import xlsxwriter\n",
    "import re\n",
    "from datetime import datetime"
   ]
  },
  {
   "cell_type": "code",
   "execution_count": 3,
   "metadata": {},
   "outputs": [
    {
     "data": {
      "text/plain": [
       "'/Users/patrickcullinane/Documents/Code/Cost_Analysis/data/journals/WE 28APR/Daily Journal 04_22_2019.xls'"
      ]
     },
     "execution_count": 3,
     "metadata": {},
     "output_type": "execute_result"
    }
   ],
   "source": [
    "DATA_PATH = os.path.join(os.getcwd(),'data/journals/WE 28APR'); DATA_PATH\n",
    "search = '/*.xls'\n",
    "\n",
    "files = glob.glob(DATA_PATH + search); files[3]"
   ]
  },
  {
   "cell_type": "code",
   "execution_count": 203,
   "metadata": {},
   "outputs": [],
   "source": [
    "#pd.read_excel(files[179]).iloc[49:]"
   ]
  },
  {
   "cell_type": "code",
   "execution_count": null,
   "metadata": {},
   "outputs": [],
   "source": [
    "files.loc[df['Unnamed: 16'] == 'Badger']['A'].index.values"
   ]
  },
  {
   "cell_type": "code",
   "execution_count": 4,
   "metadata": {},
   "outputs": [],
   "source": [
    "#date = text.iloc[13,0]; date"
   ]
  },
  {
   "cell_type": "code",
   "execution_count": 5,
   "metadata": {},
   "outputs": [],
   "source": [
    "#data = {'date': [date], 'text': [text.iloc[21,0]]}\n",
    "#df = pd.DataFrame.from_dict(data)"
   ]
  },
  {
   "cell_type": "code",
   "execution_count": 6,
   "metadata": {},
   "outputs": [],
   "source": [
    "#df"
   ]
  },
  {
   "cell_type": "code",
   "execution_count": 4,
   "metadata": {},
   "outputs": [],
   "source": [
    "case = []\n",
    "for i in range(len(files)):\n",
    "    text = pd.read_excel(files[i])\n",
    "    temp = {'date': [text.iloc[13,0]], 'text':[text.iloc[21,0]]}\n",
    "    case.append(temp)"
   ]
  },
  {
   "cell_type": "code",
   "execution_count": 5,
   "metadata": {},
   "outputs": [
    {
     "data": {
      "text/html": [
       "<div>\n",
       "<style scoped>\n",
       "    .dataframe tbody tr th:only-of-type {\n",
       "        vertical-align: middle;\n",
       "    }\n",
       "\n",
       "    .dataframe tbody tr th {\n",
       "        vertical-align: top;\n",
       "    }\n",
       "\n",
       "    .dataframe thead th {\n",
       "        text-align: right;\n",
       "    }\n",
       "</style>\n",
       "<table border=\"1\" class=\"dataframe\">\n",
       "  <thead>\n",
       "    <tr style=\"text-align: right;\">\n",
       "      <th></th>\n",
       "      <th>date</th>\n",
       "      <th>text</th>\n",
       "    </tr>\n",
       "  </thead>\n",
       "  <tbody>\n",
       "    <tr>\n",
       "      <th>0</th>\n",
       "      <td>[Date:  Friday 4/26/2019]</td>\n",
       "      <td>[Thunderstorms developed at 12 pm. All crews w...</td>\n",
       "    </tr>\n",
       "    <tr>\n",
       "      <th>1</th>\n",
       "      <td>[Date:  Thursday 4/25/2019]</td>\n",
       "      <td>[7:39 AM, Clear, 50.01°F, 61% Humidity, 2.42 M...</td>\n",
       "    </tr>\n",
       "    <tr>\n",
       "      <th>2</th>\n",
       "      <td>[Date:  Wednesday 4/24/2019]</td>\n",
       "      <td>[4:17 PM, Clear, 68.88°F, 32% Humidity, 10.39 ...</td>\n",
       "    </tr>\n",
       "    <tr>\n",
       "      <th>3</th>\n",
       "      <td>[Date:  Monday 4/22/2019]</td>\n",
       "      <td>[Rain began at approximately 2pm and continued...</td>\n",
       "    </tr>\n",
       "    <tr>\n",
       "      <th>4</th>\n",
       "      <td>[Date:  Tuesday 4/23/2019]</td>\n",
       "      <td>[7:33 AM, Clear, 56.63°F, 77% Humidity, 2.29 M...</td>\n",
       "    </tr>\n",
       "  </tbody>\n",
       "</table>\n",
       "</div>"
      ],
      "text/plain": [
       "                           date  \\\n",
       "0     [Date:  Friday 4/26/2019]   \n",
       "1   [Date:  Thursday 4/25/2019]   \n",
       "2  [Date:  Wednesday 4/24/2019]   \n",
       "3     [Date:  Monday 4/22/2019]   \n",
       "4    [Date:  Tuesday 4/23/2019]   \n",
       "\n",
       "                                                text  \n",
       "0  [Thunderstorms developed at 12 pm. All crews w...  \n",
       "1  [7:39 AM, Clear, 50.01°F, 61% Humidity, 2.42 M...  \n",
       "2  [4:17 PM, Clear, 68.88°F, 32% Humidity, 10.39 ...  \n",
       "3  [Rain began at approximately 2pm and continued...  \n",
       "4  [7:33 AM, Clear, 56.63°F, 77% Humidity, 2.29 M...  "
      ]
     },
     "execution_count": 5,
     "metadata": {},
     "output_type": "execute_result"
    }
   ],
   "source": [
    "df = pd.DataFrame.from_dict(case); df.head()"
   ]
  },
  {
   "cell_type": "code",
   "execution_count": 66,
   "metadata": {},
   "outputs": [],
   "source": [
    "# subs = pd.read_excel(files[1])\n",
    "# subs"
   ]
  },
  {
   "cell_type": "code",
   "execution_count": 86,
   "metadata": {},
   "outputs": [],
   "source": [
    "#subs = pd.read_excel(files[1]); subs\n",
    "#crew = {'date': [text.iloc[13,0]], 'text':[text.iloc[21,0]]}\n",
    "#subs.iloc[51,4]\n",
    "\n",
    "#subs.iloc[51,4]\n",
    "\n",
    "\n",
    "\n",
    "subs = []\n",
    "for i in range(len(files)):\n",
    "    for x in range(20):\n",
    "        loc = 50\n",
    "        text = pd.read_excel(files[i])\n",
    "        temp = {'date': [text.iloc[13,0]],'subs': [text.iloc[loc + x,16]], 'size': [text.iloc[loc + x,9]]}\n",
    "        subs.append(temp)"
   ]
  },
  {
   "cell_type": "code",
   "execution_count": 87,
   "metadata": {},
   "outputs": [
    {
     "data": {
      "text/html": [
       "<div>\n",
       "<style scoped>\n",
       "    .dataframe tbody tr th:only-of-type {\n",
       "        vertical-align: middle;\n",
       "    }\n",
       "\n",
       "    .dataframe tbody tr th {\n",
       "        vertical-align: top;\n",
       "    }\n",
       "\n",
       "    .dataframe thead th {\n",
       "        text-align: right;\n",
       "    }\n",
       "</style>\n",
       "<table border=\"1\" class=\"dataframe\">\n",
       "  <thead>\n",
       "    <tr style=\"text-align: right;\">\n",
       "      <th></th>\n",
       "      <th>date</th>\n",
       "      <th>size</th>\n",
       "      <th>subs</th>\n",
       "    </tr>\n",
       "  </thead>\n",
       "  <tbody>\n",
       "    <tr>\n",
       "      <th>0</th>\n",
       "      <td>[Date:  Friday 4/26/2019]</td>\n",
       "      <td>[1]</td>\n",
       "      <td>[McPhee]</td>\n",
       "    </tr>\n",
       "    <tr>\n",
       "      <th>1</th>\n",
       "      <td>[Date:  Friday 4/26/2019]</td>\n",
       "      <td>[3]</td>\n",
       "      <td>[BOND Civil Foreman]</td>\n",
       "    </tr>\n",
       "    <tr>\n",
       "      <th>2</th>\n",
       "      <td>[Date:  Friday 4/26/2019]</td>\n",
       "      <td>[1]</td>\n",
       "      <td>[Labor Steward]</td>\n",
       "    </tr>\n",
       "    <tr>\n",
       "      <th>3</th>\n",
       "      <td>[Date:  Friday 4/26/2019]</td>\n",
       "      <td>[6]</td>\n",
       "      <td>[nan]</td>\n",
       "    </tr>\n",
       "    <tr>\n",
       "      <th>4</th>\n",
       "      <td>[Date:  Friday 4/26/2019]</td>\n",
       "      <td>[1]</td>\n",
       "      <td>[Chief Operating Engineer]</td>\n",
       "    </tr>\n",
       "  </tbody>\n",
       "</table>\n",
       "</div>"
      ],
      "text/plain": [
       "                        date size                        subs\n",
       "0  [Date:  Friday 4/26/2019]  [1]                    [McPhee]\n",
       "1  [Date:  Friday 4/26/2019]  [3]        [BOND Civil Foreman]\n",
       "2  [Date:  Friday 4/26/2019]  [1]             [Labor Steward]\n",
       "3  [Date:  Friday 4/26/2019]  [6]                       [nan]\n",
       "4  [Date:  Friday 4/26/2019]  [1]  [Chief Operating Engineer]"
      ]
     },
     "execution_count": 87,
     "metadata": {},
     "output_type": "execute_result"
    }
   ],
   "source": [
    "sub_df = pd.DataFrame.from_dict(subs); sub_df.head()"
   ]
  },
  {
   "cell_type": "code",
   "execution_count": 6,
   "metadata": {},
   "outputs": [
    {
     "data": {
      "text/plain": [
       "{'date': ['Date:  Friday 4/26/2019'],\n",
       " 'text': ['Thunderstorms developed at 12 pm. All crews were sent home for the day due to the thunderstorm forecast projected for the entire day. \\n\\n11:24 AM, Overcast, 57.39°F, 88% Humidity, 6.64 MPH Winds\\n12:15 PM, Rain, 55.77°F, 91% Humidity, 6.5 MPH Winds\\n\\nISBL:\\nNo work was done in the ISBL\\n\\nPOWERHOUSE:\\nBOND stripped the Electrical Cabinet Foundation and began backfilling around the foundation.\\n\\nNEW CONTROL ROOM:\\nNo work was done in the New Control Building\\n\\nFLARE:\\nNo work was conducted in the Flare. \\n\\nCONTAINMENT SUMP: \\nConcrete pour was finished for the containment sump walls at ELE 1. Crews covered the wall to protect it from the pending thunderstorm. Continuity test was run throughout the pour (no issues were found). PVC water stop and keyway were installed in the wall. \\n\\nOTHER:\\nN/A']}"
      ]
     },
     "execution_count": 6,
     "metadata": {},
     "output_type": "execute_result"
    }
   ],
   "source": [
    "case[0]"
   ]
  },
  {
   "cell_type": "code",
   "execution_count": 69,
   "metadata": {},
   "outputs": [],
   "source": [
    "#DATA_PATH\n",
    "writer = pd.ExcelWriter('/Users/patrickcullinane/Desktop/subs.xlsx', engine='xlsxwriter')\n",
    "\n",
    "sub_df.to_excel(writer)\n",
    "\n",
    "writer.save()"
   ]
  },
  {
   "cell_type": "code",
   "execution_count": 55,
   "metadata": {},
   "outputs": [
    {
     "data": {
      "text/plain": [
       "'/Users/patrickcullinane/Documents/Code/thinkful/data'"
      ]
     },
     "execution_count": 55,
     "metadata": {},
     "output_type": "execute_result"
    }
   ],
   "source": [
    "DATA_PATH"
   ]
  },
  {
   "cell_type": "code",
   "execution_count": 88,
   "metadata": {},
   "outputs": [
    {
     "data": {
      "text/plain": [
       "0    'Date:  Friday 4/26/2019'\n",
       "1    'Date:  Friday 4/26/2019'\n",
       "2    'Date:  Friday 4/26/2019'\n",
       "3    'Date:  Friday 4/26/2019'\n",
       "4    'Date:  Friday 4/26/2019'\n",
       "Name: date, dtype: object"
      ]
     },
     "execution_count": 88,
     "metadata": {},
     "output_type": "execute_result"
    }
   ],
   "source": [
    "sub_df_d = sub_df['date'].map(lambda x: str(x)[1:])\n",
    "sub_df_d = sub_df_d.map(lambda x: str(x)[:-1]); sub_df_d.head()"
   ]
  },
  {
   "cell_type": "code",
   "execution_count": 8,
   "metadata": {},
   "outputs": [
    {
     "data": {
      "text/plain": [
       "'4/26/2019'"
      ]
     },
     "execution_count": 8,
     "metadata": {},
     "output_type": "execute_result"
    }
   ],
   "source": [
    "df_d[0]\n",
    "\n",
    "re.search(r'(\\d+/\\d+/\\d+)', df_d[0]).group(0)"
   ]
  },
  {
   "cell_type": "code",
   "execution_count": 89,
   "metadata": {},
   "outputs": [],
   "source": [
    "sub_dates = []\n",
    "\n",
    "for i in range(len(sub_df_d)):\n",
    "    x = re.search(r'(\\d+/\\d+/\\d+)', sub_df_d[i]).group(0)\n",
    "    y = datetime.strptime(str(x),'%m/%d/%Y')\n",
    "    dates.append(y)"
   ]
  },
  {
   "cell_type": "code",
   "execution_count": 90,
   "metadata": {},
   "outputs": [],
   "source": [
    "sub_df_dates = pd.Series(dates)"
   ]
  },
  {
   "cell_type": "code",
   "execution_count": 191,
   "metadata": {},
   "outputs": [],
   "source": [
    "#datetime_object = datetime.strptime(str(dates[0]),'%m/%d/%Y'); datetime_object"
   ]
  },
  {
   "cell_type": "code",
   "execution_count": 91,
   "metadata": {},
   "outputs": [
    {
     "data": {
      "text/plain": [
       "0                      McPhee\n",
       "1          BOND Civil Foreman\n",
       "2               Labor Steward\n",
       "3                           a\n",
       "4    Chief Operating Engineer\n",
       "Name: subs, dtype: object"
      ]
     },
     "execution_count": 91,
     "metadata": {},
     "output_type": "execute_result"
    }
   ],
   "source": [
    "sub_df_t = sub_df['subs'].map(lambda x: str(x)[2:])\n",
    "sub_df_t = sub_df_t.map(lambda x: str(x)[:-2]); sub_df_t.head()"
   ]
  },
  {
   "cell_type": "code",
   "execution_count": 92,
   "metadata": {},
   "outputs": [],
   "source": [
    "sub_text_2 = []\n",
    "\n",
    "for i in range(len(sub_df_t)):\n",
    "    x = str(sub_df_t[i])\n",
    "    sub_text_2.append(x)\n",
    "    \n",
    "sub_text_2 = pd.Series(sub_text_2)"
   ]
  },
  {
   "cell_type": "code",
   "execution_count": 93,
   "metadata": {},
   "outputs": [
    {
     "data": {
      "text/plain": [
       "0    1\n",
       "1    3\n",
       "2    1\n",
       "3    6\n",
       "4    1\n",
       "Name: size, dtype: object"
      ]
     },
     "execution_count": 93,
     "metadata": {},
     "output_type": "execute_result"
    }
   ],
   "source": [
    "sub_df_c = sub_df['size'].map(lambda x: str(x)[1:])\n",
    "sub_df_c = sub_df_c.map(lambda x: str(x)[:-1]); sub_df_c.head()"
   ]
  },
  {
   "cell_type": "code",
   "execution_count": 94,
   "metadata": {},
   "outputs": [],
   "source": [
    "sub_df_3 =  pd.concat([sub_df_dates, sub_df_c, sub_df_t], axis=1)"
   ]
  },
  {
   "cell_type": "code",
   "execution_count": 95,
   "metadata": {},
   "outputs": [
    {
     "data": {
      "text/html": [
       "<div>\n",
       "<style scoped>\n",
       "    .dataframe tbody tr th:only-of-type {\n",
       "        vertical-align: middle;\n",
       "    }\n",
       "\n",
       "    .dataframe tbody tr th {\n",
       "        vertical-align: top;\n",
       "    }\n",
       "\n",
       "    .dataframe thead th {\n",
       "        text-align: right;\n",
       "    }\n",
       "</style>\n",
       "<table border=\"1\" class=\"dataframe\">\n",
       "  <thead>\n",
       "    <tr style=\"text-align: right;\">\n",
       "      <th></th>\n",
       "      <th>0</th>\n",
       "      <th>size</th>\n",
       "      <th>subs</th>\n",
       "    </tr>\n",
       "  </thead>\n",
       "  <tbody>\n",
       "    <tr>\n",
       "      <th>0</th>\n",
       "      <td>2019-04-26</td>\n",
       "      <td>1</td>\n",
       "      <td>McPhee</td>\n",
       "    </tr>\n",
       "    <tr>\n",
       "      <th>1</th>\n",
       "      <td>2019-04-25</td>\n",
       "      <td>3</td>\n",
       "      <td>BOND Civil Foreman</td>\n",
       "    </tr>\n",
       "    <tr>\n",
       "      <th>2</th>\n",
       "      <td>2019-04-24</td>\n",
       "      <td>1</td>\n",
       "      <td>Labor Steward</td>\n",
       "    </tr>\n",
       "    <tr>\n",
       "      <th>3</th>\n",
       "      <td>2019-04-22</td>\n",
       "      <td>6</td>\n",
       "      <td>a</td>\n",
       "    </tr>\n",
       "    <tr>\n",
       "      <th>4</th>\n",
       "      <td>2019-04-23</td>\n",
       "      <td>1</td>\n",
       "      <td>Chief Operating Engineer</td>\n",
       "    </tr>\n",
       "  </tbody>\n",
       "</table>\n",
       "</div>"
      ],
      "text/plain": [
       "           0 size                      subs\n",
       "0 2019-04-26    1                    McPhee\n",
       "1 2019-04-25    3        BOND Civil Foreman\n",
       "2 2019-04-24    1             Labor Steward\n",
       "3 2019-04-22    6                         a\n",
       "4 2019-04-23    1  Chief Operating Engineer"
      ]
     },
     "execution_count": 95,
     "metadata": {},
     "output_type": "execute_result"
    }
   ],
   "source": [
    "sub_df_3.head()"
   ]
  },
  {
   "cell_type": "code",
   "execution_count": 96,
   "metadata": {},
   "outputs": [],
   "source": [
    "writer = pd.ExcelWriter('/Users/patrickcullinane/Desktop/subs.xlsx', engine='xlsxwriter')\n",
    "\n",
    "sub_df_3.to_excel(writer)\n",
    "\n",
    "writer.save()"
   ]
  },
  {
   "cell_type": "code",
   "execution_count": 15,
   "metadata": {},
   "outputs": [],
   "source": [
    "df_3.columns = ['date', 'text']"
   ]
  },
  {
   "cell_type": "code",
   "execution_count": 16,
   "metadata": {},
   "outputs": [
    {
     "data": {
      "text/html": [
       "<div>\n",
       "<style scoped>\n",
       "    .dataframe tbody tr th:only-of-type {\n",
       "        vertical-align: middle;\n",
       "    }\n",
       "\n",
       "    .dataframe tbody tr th {\n",
       "        vertical-align: top;\n",
       "    }\n",
       "\n",
       "    .dataframe thead th {\n",
       "        text-align: right;\n",
       "    }\n",
       "</style>\n",
       "<table border=\"1\" class=\"dataframe\">\n",
       "  <thead>\n",
       "    <tr style=\"text-align: right;\">\n",
       "      <th></th>\n",
       "      <th>date</th>\n",
       "      <th>text</th>\n",
       "    </tr>\n",
       "  </thead>\n",
       "  <tbody>\n",
       "    <tr>\n",
       "      <th>0</th>\n",
       "      <td>2019-04-26</td>\n",
       "      <td>Thunderstorms developed at 12 pm. All crews we...</td>\n",
       "    </tr>\n",
       "    <tr>\n",
       "      <th>1</th>\n",
       "      <td>2019-04-25</td>\n",
       "      <td>7:39 AM, Clear, 50.01°F, 61% Humidity, 2.42 MP...</td>\n",
       "    </tr>\n",
       "    <tr>\n",
       "      <th>2</th>\n",
       "      <td>2019-04-24</td>\n",
       "      <td>4:17 PM, Clear, 68.88°F, 32% Humidity, 10.39 M...</td>\n",
       "    </tr>\n",
       "    <tr>\n",
       "      <th>3</th>\n",
       "      <td>2019-04-22</td>\n",
       "      <td>Rain began at approximately 2pm and continued ...</td>\n",
       "    </tr>\n",
       "    <tr>\n",
       "      <th>4</th>\n",
       "      <td>2019-04-23</td>\n",
       "      <td>7:33 AM, Clear, 56.63°F, 77% Humidity, 2.29 MP...</td>\n",
       "    </tr>\n",
       "  </tbody>\n",
       "</table>\n",
       "</div>"
      ],
      "text/plain": [
       "        date                                               text\n",
       "0 2019-04-26  Thunderstorms developed at 12 pm. All crews we...\n",
       "1 2019-04-25  7:39 AM, Clear, 50.01°F, 61% Humidity, 2.42 MP...\n",
       "2 2019-04-24  4:17 PM, Clear, 68.88°F, 32% Humidity, 10.39 M...\n",
       "3 2019-04-22  Rain began at approximately 2pm and continued ...\n",
       "4 2019-04-23  7:33 AM, Clear, 56.63°F, 77% Humidity, 2.29 MP..."
      ]
     },
     "execution_count": 16,
     "metadata": {},
     "output_type": "execute_result"
    }
   ],
   "source": [
    "df_4 = df_3[df_3.text != 'Manpower Trade']; df_4.head() #removed instances of no diary entry"
   ]
  },
  {
   "cell_type": "code",
   "execution_count": 17,
   "metadata": {},
   "outputs": [
    {
     "data": {
      "text/html": [
       "<div>\n",
       "<style scoped>\n",
       "    .dataframe tbody tr th:only-of-type {\n",
       "        vertical-align: middle;\n",
       "    }\n",
       "\n",
       "    .dataframe tbody tr th {\n",
       "        vertical-align: top;\n",
       "    }\n",
       "\n",
       "    .dataframe thead th {\n",
       "        text-align: right;\n",
       "    }\n",
       "</style>\n",
       "<table border=\"1\" class=\"dataframe\">\n",
       "  <thead>\n",
       "    <tr style=\"text-align: right;\">\n",
       "      <th></th>\n",
       "      <th>date</th>\n",
       "      <th>text</th>\n",
       "    </tr>\n",
       "  </thead>\n",
       "  <tbody>\n",
       "    <tr>\n",
       "      <th>0</th>\n",
       "      <td>2019-04-26</td>\n",
       "      <td>Thunderstorms developed at 12 pm. All crews we...</td>\n",
       "    </tr>\n",
       "    <tr>\n",
       "      <th>1</th>\n",
       "      <td>2019-04-25</td>\n",
       "      <td>7:39 AM, Clear, 50.01°F, 61% Humidity, 2.42 MP...</td>\n",
       "    </tr>\n",
       "    <tr>\n",
       "      <th>2</th>\n",
       "      <td>2019-04-24</td>\n",
       "      <td>4:17 PM, Clear, 68.88°F, 32% Humidity, 10.39 M...</td>\n",
       "    </tr>\n",
       "    <tr>\n",
       "      <th>3</th>\n",
       "      <td>2019-04-22</td>\n",
       "      <td>Rain began at approximately 2pm and continued ...</td>\n",
       "    </tr>\n",
       "    <tr>\n",
       "      <th>4</th>\n",
       "      <td>2019-04-23</td>\n",
       "      <td>7:33 AM, Clear, 56.63°F, 77% Humidity, 2.29 MP...</td>\n",
       "    </tr>\n",
       "  </tbody>\n",
       "</table>\n",
       "</div>"
      ],
      "text/plain": [
       "        date                                               text\n",
       "0 2019-04-26  Thunderstorms developed at 12 pm. All crews we...\n",
       "1 2019-04-25  7:39 AM, Clear, 50.01°F, 61% Humidity, 2.42 MP...\n",
       "2 2019-04-24  4:17 PM, Clear, 68.88°F, 32% Humidity, 10.39 M...\n",
       "3 2019-04-22  Rain began at approximately 2pm and continued ...\n",
       "4 2019-04-23  7:33 AM, Clear, 56.63°F, 77% Humidity, 2.29 MP..."
      ]
     },
     "execution_count": 17,
     "metadata": {},
     "output_type": "execute_result"
    }
   ],
   "source": [
    "df_5 = df_4.reset_index(drop=True); df_5.head() #reset the index"
   ]
  },
  {
   "cell_type": "code",
   "execution_count": 266,
   "metadata": {},
   "outputs": [
    {
     "data": {
      "text/html": [
       "<div>\n",
       "<style scoped>\n",
       "    .dataframe tbody tr th:only-of-type {\n",
       "        vertical-align: middle;\n",
       "    }\n",
       "\n",
       "    .dataframe tbody tr th {\n",
       "        vertical-align: top;\n",
       "    }\n",
       "\n",
       "    .dataframe thead th {\n",
       "        text-align: right;\n",
       "    }\n",
       "</style>\n",
       "<table border=\"1\" class=\"dataframe\">\n",
       "  <thead>\n",
       "    <tr style=\"text-align: right;\">\n",
       "      <th></th>\n",
       "      <th>Date</th>\n",
       "      <th>Cost Code</th>\n",
       "      <th>Cost Code Description</th>\n",
       "      <th>Unit</th>\n",
       "      <th>Actual Quantity</th>\n",
       "    </tr>\n",
       "  </thead>\n",
       "  <tbody>\n",
       "    <tr>\n",
       "      <th>0</th>\n",
       "      <td>2018-10-22</td>\n",
       "      <td>3.331</td>\n",
       "      <td>Place Concrete - Chute</td>\n",
       "      <td>CY</td>\n",
       "      <td>0.0</td>\n",
       "    </tr>\n",
       "    <tr>\n",
       "      <th>1</th>\n",
       "      <td>2018-10-22</td>\n",
       "      <td>3.332</td>\n",
       "      <td>Place Concrete - Pump</td>\n",
       "      <td>CY</td>\n",
       "      <td>0.0</td>\n",
       "    </tr>\n",
       "    <tr>\n",
       "      <th>2</th>\n",
       "      <td>2018-12-19</td>\n",
       "      <td>3.332</td>\n",
       "      <td>Place Concrete - Pump</td>\n",
       "      <td>CY</td>\n",
       "      <td>24.0</td>\n",
       "    </tr>\n",
       "    <tr>\n",
       "      <th>3</th>\n",
       "      <td>2018-12-23</td>\n",
       "      <td>3.332</td>\n",
       "      <td>Place Concrete - Pump</td>\n",
       "      <td>CY</td>\n",
       "      <td>131.0</td>\n",
       "    </tr>\n",
       "    <tr>\n",
       "      <th>4</th>\n",
       "      <td>2018-12-23</td>\n",
       "      <td>3.332</td>\n",
       "      <td>Place Concrete - Pump</td>\n",
       "      <td>CY</td>\n",
       "      <td>0.0</td>\n",
       "    </tr>\n",
       "  </tbody>\n",
       "</table>\n",
       "</div>"
      ],
      "text/plain": [
       "        Date  Cost Code   Cost Code Description Unit  Actual Quantity\n",
       "0 2018-10-22      3.331  Place Concrete - Chute   CY              0.0\n",
       "1 2018-10-22      3.332   Place Concrete - Pump   CY              0.0\n",
       "2 2018-12-19      3.332   Place Concrete - Pump   CY             24.0\n",
       "3 2018-12-23      3.332   Place Concrete - Pump   CY            131.0\n",
       "4 2018-12-23      3.332   Place Concrete - Pump   CY              0.0"
      ]
     },
     "execution_count": 266,
     "metadata": {},
     "output_type": "execute_result"
    }
   ],
   "source": [
    "concrete_data = '/CostCodeDetailReport.xlsx'\n",
    "\n",
    "concrete = pd.read_excel(DATA_PATH + concrete_data); concrete.head()\n",
    "concrete_2 = concrete.drop_duplicates(); concrete_2.head()"
   ]
  },
  {
   "cell_type": "code",
   "execution_count": 278,
   "metadata": {},
   "outputs": [
    {
     "data": {
      "text/html": [
       "<div>\n",
       "<style scoped>\n",
       "    .dataframe tbody tr th:only-of-type {\n",
       "        vertical-align: middle;\n",
       "    }\n",
       "\n",
       "    .dataframe tbody tr th {\n",
       "        vertical-align: top;\n",
       "    }\n",
       "\n",
       "    .dataframe thead th {\n",
       "        text-align: right;\n",
       "    }\n",
       "</style>\n",
       "<table border=\"1\" class=\"dataframe\">\n",
       "  <thead>\n",
       "    <tr style=\"text-align: right;\">\n",
       "      <th></th>\n",
       "      <th>Date</th>\n",
       "      <th>Cost Code</th>\n",
       "    </tr>\n",
       "  </thead>\n",
       "  <tbody>\n",
       "    <tr>\n",
       "      <th>0</th>\n",
       "      <td>2018-10-22</td>\n",
       "      <td>3.331</td>\n",
       "    </tr>\n",
       "    <tr>\n",
       "      <th>1</th>\n",
       "      <td>2018-10-22</td>\n",
       "      <td>3.332</td>\n",
       "    </tr>\n",
       "    <tr>\n",
       "      <th>2</th>\n",
       "      <td>2018-12-19</td>\n",
       "      <td>3.332</td>\n",
       "    </tr>\n",
       "    <tr>\n",
       "      <th>3</th>\n",
       "      <td>2018-12-23</td>\n",
       "      <td>3.332</td>\n",
       "    </tr>\n",
       "    <tr>\n",
       "      <th>4</th>\n",
       "      <td>2018-12-23</td>\n",
       "      <td>3.332</td>\n",
       "    </tr>\n",
       "  </tbody>\n",
       "</table>\n",
       "</div>"
      ],
      "text/plain": [
       "        Date  Cost Code\n",
       "0 2018-10-22      3.331\n",
       "1 2018-10-22      3.332\n",
       "2 2018-12-19      3.332\n",
       "3 2018-12-23      3.332\n",
       "4 2018-12-23      3.332"
      ]
     },
     "execution_count": 278,
     "metadata": {},
     "output_type": "execute_result"
    }
   ],
   "source": [
    "concrete_3 =  pd.concat([concrete['Date'], concrete['Cost Code']], axis=1); concrete_3.head()"
   ]
  },
  {
   "cell_type": "code",
   "execution_count": 290,
   "metadata": {},
   "outputs": [],
   "source": [
    "concrete_3.columns = ['date', 'pours']"
   ]
  },
  {
   "cell_type": "code",
   "execution_count": 309,
   "metadata": {},
   "outputs": [
    {
     "data": {
      "text/html": [
       "<div>\n",
       "<style scoped>\n",
       "    .dataframe tbody tr th:only-of-type {\n",
       "        vertical-align: middle;\n",
       "    }\n",
       "\n",
       "    .dataframe tbody tr th {\n",
       "        vertical-align: top;\n",
       "    }\n",
       "\n",
       "    .dataframe thead th {\n",
       "        text-align: right;\n",
       "    }\n",
       "</style>\n",
       "<table border=\"1\" class=\"dataframe\">\n",
       "  <thead>\n",
       "    <tr style=\"text-align: right;\">\n",
       "      <th></th>\n",
       "      <th>date</th>\n",
       "      <th>text</th>\n",
       "      <th>pours</th>\n",
       "    </tr>\n",
       "  </thead>\n",
       "  <tbody>\n",
       "    <tr>\n",
       "      <th>0</th>\n",
       "      <td>2019-03-01</td>\n",
       "      <td>Bond first civil crew worked on housekeeping a...</td>\n",
       "      <td>3.332</td>\n",
       "    </tr>\n",
       "    <tr>\n",
       "      <th>1</th>\n",
       "      <td>2019-04-12</td>\n",
       "      <td>7:26 AM, Overcast, 47.62°F, 50% Humidity, 2.87...</td>\n",
       "      <td>NaN</td>\n",
       "    </tr>\n",
       "    <tr>\n",
       "      <th>2</th>\n",
       "      <td>2019-04-13</td>\n",
       "      <td>Rain began on 4/12/2019 at about 6 pm. Rain ca...</td>\n",
       "      <td>3.332</td>\n",
       "    </tr>\n",
       "    <tr>\n",
       "      <th>3</th>\n",
       "      <td>2019-02-14</td>\n",
       "      <td>First civil crew graded the north utility rack...</td>\n",
       "      <td>NaN</td>\n",
       "    </tr>\n",
       "    <tr>\n",
       "      <th>4</th>\n",
       "      <td>2019-02-11</td>\n",
       "      <td>Bond Brothers Inc. - Mechanical Phase 3\\n\\n1. ...</td>\n",
       "      <td>3.332</td>\n",
       "    </tr>\n",
       "  </tbody>\n",
       "</table>\n",
       "</div>"
      ],
      "text/plain": [
       "        date                                               text  pours\n",
       "0 2019-03-01  Bond first civil crew worked on housekeeping a...  3.332\n",
       "1 2019-04-12  7:26 AM, Overcast, 47.62°F, 50% Humidity, 2.87...    NaN\n",
       "2 2019-04-13  Rain began on 4/12/2019 at about 6 pm. Rain ca...  3.332\n",
       "3 2019-02-14  First civil crew graded the north utility rack...    NaN\n",
       "4 2019-02-11  Bond Brothers Inc. - Mechanical Phase 3\\n\\n1. ...  3.332"
      ]
     },
     "execution_count": 309,
     "metadata": {},
     "output_type": "execute_result"
    }
   ],
   "source": [
    "pours = df_5.merge(concrete_3, on='date', how='left'); pours.head()"
   ]
  },
  {
   "cell_type": "code",
   "execution_count": 1,
   "metadata": {},
   "outputs": [],
   "source": [
    "# placements = pours['pours']\n",
    "\n",
    "# pours_sort = ['no' if  else 'yes' for ele in placements]\n",
    "\n",
    "# #placements"
   ]
  },
  {
   "cell_type": "code",
   "execution_count": 314,
   "metadata": {},
   "outputs": [
    {
     "data": {
      "text/plain": [
       "0      False\n",
       "1       True\n",
       "2      False\n",
       "3       True\n",
       "4      False\n",
       "5       True\n",
       "6      False\n",
       "7       True\n",
       "8       True\n",
       "9       True\n",
       "10      True\n",
       "11      True\n",
       "12      True\n",
       "13      True\n",
       "14      True\n",
       "15      True\n",
       "16      True\n",
       "17     False\n",
       "18      True\n",
       "19     False\n",
       "20      True\n",
       "21      True\n",
       "22     False\n",
       "23     False\n",
       "24      True\n",
       "25     False\n",
       "26      True\n",
       "27      True\n",
       "28      True\n",
       "29      True\n",
       "       ...  \n",
       "124     True\n",
       "125     True\n",
       "126     True\n",
       "127     True\n",
       "128     True\n",
       "129     True\n",
       "130     True\n",
       "131     True\n",
       "132    False\n",
       "133     True\n",
       "134     True\n",
       "135     True\n",
       "136    False\n",
       "137    False\n",
       "138     True\n",
       "139     True\n",
       "140    False\n",
       "141    False\n",
       "142     True\n",
       "143     True\n",
       "144    False\n",
       "145    False\n",
       "146    False\n",
       "147     True\n",
       "148     True\n",
       "149     True\n",
       "150     True\n",
       "151     True\n",
       "152     True\n",
       "153     True\n",
       "Name: pours, Length: 154, dtype: bool"
      ]
     },
     "execution_count": 314,
     "metadata": {},
     "output_type": "execute_result"
    }
   ],
   "source": [
    "pours['pours'].isnull()"
   ]
  },
  {
   "cell_type": "code",
   "execution_count": null,
   "metadata": {},
   "outputs": [],
   "source": []
  }
 ],
 "metadata": {
  "kernelspec": {
   "display_name": "Python (fast_ai)",
   "language": "python",
   "name": "fast_ai"
  },
  "language_info": {
   "codemirror_mode": {
    "name": "ipython",
    "version": 3
   },
   "file_extension": ".py",
   "mimetype": "text/x-python",
   "name": "python",
   "nbconvert_exporter": "python",
   "pygments_lexer": "ipython3",
   "version": "3.7.2"
  }
 },
 "nbformat": 4,
 "nbformat_minor": 2
}
